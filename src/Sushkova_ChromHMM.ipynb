{
  "nbformat": 4,
  "nbformat_minor": 0,
  "metadata": {
    "colab": {
      "provenance": []
    },
    "kernelspec": {
      "name": "python3",
      "display_name": "Python 3"
    },
    "language_info": {
      "name": "python"
    }
  },
  "cells": [
    {
      "cell_type": "markdown",
      "source": [
        "# Устанавливаем java и ChromHmm"
      ],
      "metadata": {
        "id": "vRciyzvPEDLD"
      }
    },
    {
      "cell_type": "code",
      "source": [
        "!curl -O https://raw.githubusercontent.com/deepjavalibrary/d2l-java/master/tools/fix-colab-gpu.sh && bash fix-colab-gpu.sh"
      ],
      "metadata": {
        "colab": {
          "base_uri": "https://localhost:8080/"
        },
        "id": "1O3GJ3Gys7Tm",
        "outputId": "d016a424-eaf4-40aa-95c6-3f144d22fb9f"
      },
      "execution_count": null,
      "outputs": [
        {
          "output_type": "stream",
          "name": "stdout",
          "text": [
            "  % Total    % Received % Xferd  Average Speed   Time    Time     Time  Current\n",
            "                                 Dload  Upload   Total   Spent    Left  Speed\n",
            "\r  0     0    0     0    0     0      0      0 --:--:-- --:--:-- --:--:--     0\r100   155  100   155    0     0    962      0 --:--:-- --:--:-- --:--:--   962\n",
            "ln: failed to create symbolic link '/usr/lib64-nvidia': File exists\n",
            "fix-colab-gpu.sh: line 5: nvcc: command not found\n"
          ]
        }
      ]
    },
    {
      "cell_type": "code",
      "execution_count": null,
      "metadata": {
        "colab": {
          "base_uri": "https://localhost:8080/"
        },
        "id": "NxS1Mv5WquOV",
        "outputId": "1c9b1fd9-0d36-4f74-d58e-82c504bb0ad1"
      },
      "outputs": [
        {
          "output_type": "stream",
          "name": "stdout",
          "text": [
            "  % Total    % Received % Xferd  Average Speed   Time    Time     Time  Current\n",
            "                                 Dload  Upload   Total   Spent    Left  Speed\n",
            "\r  0     0    0     0    0     0      0      0 --:--:-- --:--:-- --:--:--     0\r100   520  100   520    0     0   3229      0 --:--:-- --:--:-- --:--:--  3229\n",
            "Update environment...\n",
            "Install Java...\n",
            "Install Jupyter java kernel...\n"
          ]
        }
      ],
      "source": [
        "!curl -O https://raw.githubusercontent.com/deepjavalibrary/d2l-java/master/tools/colab_build.sh && bash colab_build.sh"
      ]
    },
    {
      "cell_type": "code",
      "source": [
        "!java --list-modules | grep \"jdk.jshell\"\n"
      ],
      "metadata": {
        "colab": {
          "base_uri": "https://localhost:8080/"
        },
        "id": "_NrPS924rQFX",
        "outputId": "27ceab20-3b66-4b35-8082-0aad929e2e38"
      },
      "execution_count": null,
      "outputs": [
        {
          "output_type": "stream",
          "name": "stdout",
          "text": [
            "jdk.jshell@11.0.18\n"
          ]
        }
      ]
    },
    {
      "cell_type": "code",
      "source": [
        "! wget http://compbio.mit.edu/ChromHMM/ChromHMM.zip"
      ],
      "metadata": {
        "colab": {
          "base_uri": "https://localhost:8080/"
        },
        "id": "zCdYYvCJrpRt",
        "outputId": "135e7441-ed9f-4b24-a795-e435924e3af7"
      },
      "execution_count": null,
      "outputs": [
        {
          "output_type": "stream",
          "name": "stdout",
          "text": [
            "--2023-03-31 18:16:46--  http://compbio.mit.edu/ChromHMM/ChromHMM.zip\n",
            "Resolving compbio.mit.edu (compbio.mit.edu)... 128.30.2.44\n",
            "Connecting to compbio.mit.edu (compbio.mit.edu)|128.30.2.44|:80... connected.\n",
            "HTTP request sent, awaiting response... 200 OK\n",
            "Length: 48940646 (47M) [application/zip]\n",
            "Saving to: ‘ChromHMM.zip’\n",
            "\n",
            "ChromHMM.zip        100%[===================>]  46.67M  4.78MB/s    in 10s     \n",
            "\n",
            "2023-03-31 18:16:56 (4.60 MB/s) - ‘ChromHMM.zip’ saved [48940646/48940646]\n",
            "\n"
          ]
        }
      ]
    },
    {
      "cell_type": "code",
      "source": [
        "!unzip /content/ChromHMM.zip"
      ],
      "metadata": {
        "id": "gF4uI2bvvEN2",
        "colab": {
          "base_uri": "https://localhost:8080/"
        },
        "outputId": "120d767b-5639-4d5c-aa5c-745fe5e355fa"
      },
      "execution_count": null,
      "outputs": [
        {
          "output_type": "stream",
          "name": "stdout",
          "text": [
            "Archive:  /content/ChromHMM.zip\n",
            "   creating: ChromHMM/ANCHORFILES/\n",
            "   creating: ChromHMM/ANCHORFILES/ce10/\n",
            "  inflating: ChromHMM/ANCHORFILES/ce10/RefSeqTES.ce10.txt.gz  \n",
            "  inflating: ChromHMM/ANCHORFILES/ce10/RefSeqTSS.ce10.txt.gz  \n",
            "   creating: ChromHMM/ANCHORFILES/ce11/\n",
            "  inflating: ChromHMM/ANCHORFILES/ce11/RefSeqTES.ce11.txt.gz  \n",
            "  inflating: ChromHMM/ANCHORFILES/ce11/RefSeqTSS.ce11.txt.gz  \n",
            "   creating: ChromHMM/ANCHORFILES/ce6/\n",
            "  inflating: ChromHMM/ANCHORFILES/ce6/RefSeqTES.ce6.txt.gz  \n",
            "  inflating: ChromHMM/ANCHORFILES/ce6/RefSeqTSS.ce6.txt.gz  \n",
            "   creating: ChromHMM/ANCHORFILES/danRer10/\n",
            "  inflating: ChromHMM/ANCHORFILES/danRer10/RefSeqTES.danRer10.txt.gz  \n",
            "  inflating: ChromHMM/ANCHORFILES/danRer10/RefSeqTSS.danRer10.txt.gz  \n",
            "   creating: ChromHMM/ANCHORFILES/danRer11/\n",
            "  inflating: ChromHMM/ANCHORFILES/danRer11/RefSeqTES.danRer11.txt.gz  \n",
            "  inflating: ChromHMM/ANCHORFILES/danRer11/RefSeqTSS.danRer11.txt.gz  \n",
            "   creating: ChromHMM/ANCHORFILES/danRer7/\n",
            "  inflating: ChromHMM/ANCHORFILES/danRer7/RefSeqTES.danRer7.txt.gz  \n",
            "  inflating: ChromHMM/ANCHORFILES/danRer7/RefSeqTSS.danRer7.txt.gz  \n",
            "   creating: ChromHMM/ANCHORFILES/dm3/\n",
            "  inflating: ChromHMM/ANCHORFILES/dm3/RefSeqTES.dm3.txt.gz  \n",
            "  inflating: ChromHMM/ANCHORFILES/dm3/RefSeqTSS.dm3.txt.gz  \n",
            "   creating: ChromHMM/ANCHORFILES/dm6/\n",
            "  inflating: ChromHMM/ANCHORFILES/dm6/RefSeqTES.dm6.txt.gz  \n",
            "  inflating: ChromHMM/ANCHORFILES/dm6/RefSeqTSS.dm6.txt.gz  \n",
            "   creating: ChromHMM/ANCHORFILES/hg18/\n",
            "  inflating: ChromHMM/ANCHORFILES/hg18/RefSeqTES.hg18.txt.gz  \n",
            "  inflating: ChromHMM/ANCHORFILES/hg18/RefSeqTSS.hg18.txt.gz  \n",
            "   creating: ChromHMM/ANCHORFILES/hg19/\n",
            "  inflating: ChromHMM/ANCHORFILES/hg19/RefSeqTES.hg19.txt.gz  \n",
            "  inflating: ChromHMM/ANCHORFILES/hg19/RefSeqTSS.hg19.txt.gz  \n",
            "   creating: ChromHMM/ANCHORFILES/hg38/\n",
            "  inflating: ChromHMM/ANCHORFILES/hg38/RefSeqTES.hg38.txt.gz  \n",
            "  inflating: ChromHMM/ANCHORFILES/hg38/RefSeqTSS.hg38.txt.gz  \n",
            "   creating: ChromHMM/ANCHORFILES/hs1/\n",
            "  inflating: ChromHMM/ANCHORFILES/hs1/RefSeqTES.hs1.txt.gz  \n",
            "  inflating: ChromHMM/ANCHORFILES/hs1/RefSeqTSS.hs1.txt.gz  \n",
            "   creating: ChromHMM/ANCHORFILES/mm10/\n",
            "  inflating: ChromHMM/ANCHORFILES/mm10/RefSeqTES.mm10.txt.gz  \n",
            "  inflating: ChromHMM/ANCHORFILES/mm10/RefSeqTSS.mm10.txt.gz  \n",
            "   creating: ChromHMM/ANCHORFILES/mm39/\n",
            "  inflating: ChromHMM/ANCHORFILES/mm39/RefSeqTES.mm39.txt.gz  \n",
            "  inflating: ChromHMM/ANCHORFILES/mm39/RefSeqTSS.mm39.txt.gz  \n",
            "   creating: ChromHMM/ANCHORFILES/mm9/\n",
            "  inflating: ChromHMM/ANCHORFILES/mm9/RefSeqTES.mm9.txt.gz  \n",
            "  inflating: ChromHMM/ANCHORFILES/mm9/RefSeqTSS.mm9.txt.gz  \n",
            "   creating: ChromHMM/ANCHORFILES/rn5/\n",
            "  inflating: ChromHMM/ANCHORFILES/rn5/RefSeqTES.rn5.txt.gz  \n",
            "  inflating: ChromHMM/ANCHORFILES/rn5/RefSeqTSS.rn5.txt.gz  \n",
            "   creating: ChromHMM/ANCHORFILES/rn6/\n",
            "  inflating: ChromHMM/ANCHORFILES/rn6/RefSeqTES.rn6.txt.gz  \n",
            "  inflating: ChromHMM/ANCHORFILES/rn6/RefSeqTSS.rn6.txt.gz  \n",
            "  inflating: ChromHMM/ChromHMM.jar   \n",
            "  inflating: ChromHMM/ChromHMM_manual.pdf  \n",
            "   creating: ChromHMM/CHROMSIZES/\n",
            "  inflating: ChromHMM/CHROMSIZES/ce10.txt  \n",
            "  inflating: ChromHMM/CHROMSIZES/ce11.txt  \n",
            "  inflating: ChromHMM/CHROMSIZES/ce6.txt  \n",
            "  inflating: ChromHMM/CHROMSIZES/danRer10.txt  \n",
            "  inflating: ChromHMM/CHROMSIZES/danRer11.txt  \n",
            "  inflating: ChromHMM/CHROMSIZES/danRer7.txt  \n",
            "  inflating: ChromHMM/CHROMSIZES/dm3.txt  \n",
            "  inflating: ChromHMM/CHROMSIZES/dm6.txt  \n",
            "  inflating: ChromHMM/CHROMSIZES/hg18.txt  \n",
            "  inflating: ChromHMM/CHROMSIZES/hg19.txt  \n",
            "  inflating: ChromHMM/CHROMSIZES/hg38.txt  \n",
            "  inflating: ChromHMM/CHROMSIZES/hs1.txt  \n",
            "  inflating: ChromHMM/CHROMSIZES/mm10.txt  \n",
            "  inflating: ChromHMM/CHROMSIZES/mm39.txt  \n",
            "  inflating: ChromHMM/CHROMSIZES/mm9.txt  \n",
            "  inflating: ChromHMM/CHROMSIZES/rn5.txt  \n",
            "  inflating: ChromHMM/CHROMSIZES/rn6.txt  \n",
            "   creating: ChromHMM/COORDS/\n",
            "   creating: ChromHMM/COORDS/ce10/\n",
            "  inflating: ChromHMM/COORDS/ce10/RefSeqExon.ce10.bed.gz  \n",
            "  inflating: ChromHMM/COORDS/ce10/RefSeqGene.ce10.bed.gz  \n",
            "  inflating: ChromHMM/COORDS/ce10/RefSeqTES.ce10.bed.gz  \n",
            "  inflating: ChromHMM/COORDS/ce10/RefSeqTSS.ce10.bed.gz  \n",
            "  inflating: ChromHMM/COORDS/ce10/RefSeqTSS2kb.ce10.bed.gz  \n",
            "   creating: ChromHMM/COORDS/ce11/\n",
            "  inflating: ChromHMM/COORDS/ce11/RefSeqExon.ce11.bed.gz  \n",
            "  inflating: ChromHMM/COORDS/ce11/RefSeqGene.ce11.bed.gz  \n",
            "  inflating: ChromHMM/COORDS/ce11/RefSeqTES.ce11.bed.gz  \n",
            "  inflating: ChromHMM/COORDS/ce11/RefSeqTSS.ce11.bed.gz  \n",
            "  inflating: ChromHMM/COORDS/ce11/RefSeqTSS2kb.ce11.bed.gz  \n",
            "   creating: ChromHMM/COORDS/ce6/\n",
            "  inflating: ChromHMM/COORDS/ce6/RefSeqExon.ce6.bed.gz  \n",
            "  inflating: ChromHMM/COORDS/ce6/RefSeqGene.ce6.bed.gz  \n",
            "  inflating: ChromHMM/COORDS/ce6/RefSeqTES.ce6.bed.gz  \n",
            "  inflating: ChromHMM/COORDS/ce6/RefSeqTSS.ce6.bed.gz  \n",
            "  inflating: ChromHMM/COORDS/ce6/RefSeqTSS2kb.ce6.bed.gz  \n",
            "   creating: ChromHMM/COORDS/danRer10/\n",
            "  inflating: ChromHMM/COORDS/danRer10/RefSeqExon.danRer10.bed.gz  \n",
            "  inflating: ChromHMM/COORDS/danRer10/RefSeqGene.danRer10.bed.gz  \n",
            "  inflating: ChromHMM/COORDS/danRer10/RefSeqTES.danRer10.bed.gz  \n",
            "  inflating: ChromHMM/COORDS/danRer10/RefSeqTSS.danRer10.bed.gz  \n",
            "  inflating: ChromHMM/COORDS/danRer10/RefSeqTSS2kb.danRer10.bed.gz  \n",
            "   creating: ChromHMM/COORDS/danRer11/\n",
            "  inflating: ChromHMM/COORDS/danRer11/RefSeqExon.danRer11.bed.gz  \n",
            "  inflating: ChromHMM/COORDS/danRer11/RefSeqGene.danRer11.bed.gz  \n",
            "  inflating: ChromHMM/COORDS/danRer11/RefSeqTES.danRer11.bed.gz  \n",
            "  inflating: ChromHMM/COORDS/danRer11/RefSeqTSS.danRer11.bed.gz  \n",
            "  inflating: ChromHMM/COORDS/danRer11/RefSeqTSS2kb.danRer11.bed.gz  \n",
            "   creating: ChromHMM/COORDS/danRer7/\n",
            "  inflating: ChromHMM/COORDS/danRer7/RefSeqExon.danRer7.bed.gz  \n",
            "  inflating: ChromHMM/COORDS/danRer7/RefSeqGene.danRer7.bed.gz  \n",
            "  inflating: ChromHMM/COORDS/danRer7/RefSeqTES.danRer7.bed.gz  \n",
            "  inflating: ChromHMM/COORDS/danRer7/RefSeqTSS.danRer7.bed.gz  \n",
            "  inflating: ChromHMM/COORDS/danRer7/RefSeqTSS2kb.danRer7.bed.gz  \n",
            "   creating: ChromHMM/COORDS/dm3/\n",
            "  inflating: ChromHMM/COORDS/dm3/RefSeqExon.dm3.bed.gz  \n",
            "  inflating: ChromHMM/COORDS/dm3/RefSeqGene.dm3.bed.gz  \n",
            "  inflating: ChromHMM/COORDS/dm3/RefSeqTES.dm3.bed.gz  \n",
            "  inflating: ChromHMM/COORDS/dm3/RefSeqTSS.dm3.bed.gz  \n",
            "  inflating: ChromHMM/COORDS/dm3/RefSeqTSS2kb.dm3.bed.gz  \n",
            "   creating: ChromHMM/COORDS/dm6/\n",
            "  inflating: ChromHMM/COORDS/dm6/RefSeqExon.dm6.bed.gz  \n",
            "  inflating: ChromHMM/COORDS/dm6/RefSeqGene.dm6.bed.gz  \n",
            "  inflating: ChromHMM/COORDS/dm6/RefSeqTES.dm6.bed.gz  \n",
            "  inflating: ChromHMM/COORDS/dm6/RefSeqTSS.dm6.bed.gz  \n",
            "  inflating: ChromHMM/COORDS/dm6/RefSeqTSS2kb.dm6.bed.gz  \n",
            "   creating: ChromHMM/COORDS/hg18/\n",
            "  inflating: ChromHMM/COORDS/hg18/CpGIsland.hg18.bed.gz  \n",
            " extracting: ChromHMM/COORDS/hg18/laminB1lads.hg18.bed.gz  \n",
            "  inflating: ChromHMM/COORDS/hg18/RefSeqExon.hg18.bed.gz  \n",
            "  inflating: ChromHMM/COORDS/hg18/RefSeqGene.hg18.bed.gz  \n",
            "  inflating: ChromHMM/COORDS/hg18/RefSeqTES.hg18.bed.gz  \n",
            "  inflating: ChromHMM/COORDS/hg18/RefSeqTSS.hg18.bed.gz  \n",
            "  inflating: ChromHMM/COORDS/hg18/RefSeqTSS2kb.hg18.bed.gz  \n",
            "   creating: ChromHMM/COORDS/hg19/\n",
            "  inflating: ChromHMM/COORDS/hg19/CpGIsland.hg19.bed.gz  \n",
            " extracting: ChromHMM/COORDS/hg19/laminB1lads.hg19.bed.gz  \n",
            "  inflating: ChromHMM/COORDS/hg19/RefSeqExon.hg19.bed.gz  \n",
            "  inflating: ChromHMM/COORDS/hg19/RefSeqGene.hg19.bed.gz  \n",
            "  inflating: ChromHMM/COORDS/hg19/RefSeqTES.hg19.bed.gz  \n",
            "  inflating: ChromHMM/COORDS/hg19/RefSeqTSS.hg19.bed.gz  \n",
            "  inflating: ChromHMM/COORDS/hg19/RefSeqTSS2kb.hg19.bed.gz  \n",
            "   creating: ChromHMM/COORDS/hg38/\n",
            "  inflating: ChromHMM/COORDS/hg38/CpGIsland.hg38.bed.gz  \n",
            "  inflating: ChromHMM/COORDS/hg38/RefSeqExon.hg38.bed.gz  \n",
            "  inflating: ChromHMM/COORDS/hg38/RefSeqGene.hg38.bed.gz  \n",
            "  inflating: ChromHMM/COORDS/hg38/RefSeqTES.hg38.bed.gz  \n",
            "  inflating: ChromHMM/COORDS/hg38/RefSeqTSS.hg38.bed.gz  \n",
            "  inflating: ChromHMM/COORDS/hg38/RefSeqTSS2kb.hg38.bed.gz  \n",
            "   creating: ChromHMM/COORDS/hs1/\n",
            "  inflating: ChromHMM/COORDS/hs1/CpGIsland.hs1.bed.gz  \n",
            "  inflating: ChromHMM/COORDS/hs1/RefSeqExon.hs1.bed.gz  \n",
            "  inflating: ChromHMM/COORDS/hs1/RefSeqGene.hs1.bed.gz  \n",
            "  inflating: ChromHMM/COORDS/hs1/RefSeqTES.hs1.bed.gz  \n",
            "  inflating: ChromHMM/COORDS/hs1/RefSeqTSS.hs1.bed.gz  \n",
            "  inflating: ChromHMM/COORDS/hs1/RefSeqTSS2kb.hs1.bed.gz  \n",
            "   creating: ChromHMM/COORDS/mm10/\n",
            "  inflating: ChromHMM/COORDS/mm10/CpGIsland.mm10.bed.gz  \n",
            "  inflating: ChromHMM/COORDS/mm10/RefSeqExon.mm10.bed.gz  \n",
            "  inflating: ChromHMM/COORDS/mm10/RefSeqGene.mm10.bed.gz  \n",
            "  inflating: ChromHMM/COORDS/mm10/RefSeqTES.mm10.bed.gz  \n",
            "  inflating: ChromHMM/COORDS/mm10/RefSeqTSS.mm10.bed.gz  \n",
            "  inflating: ChromHMM/COORDS/mm10/RefSeqTSS2kb.mm10.bed.gz  \n",
            "   creating: ChromHMM/COORDS/mm39/\n",
            "  inflating: ChromHMM/COORDS/mm39/CpGIsland.mm39.bed.gz  \n",
            "  inflating: ChromHMM/COORDS/mm39/RefSeqExon.mm39.bed.gz  \n",
            "  inflating: ChromHMM/COORDS/mm39/RefSeqGene.mm39.bed.gz  \n",
            "  inflating: ChromHMM/COORDS/mm39/RefSeqTES.mm39.bed.gz  \n",
            "  inflating: ChromHMM/COORDS/mm39/RefSeqTSS.mm39.bed.gz  \n",
            "  inflating: ChromHMM/COORDS/mm39/RefSeqTSS2kb.mm39.bed.gz  \n",
            "   creating: ChromHMM/COORDS/mm9/\n",
            "  inflating: ChromHMM/COORDS/mm9/CpGIsland.mm9.bed.gz  \n",
            "  inflating: ChromHMM/COORDS/mm9/RefSeqExon.mm9.bed.gz  \n",
            "  inflating: ChromHMM/COORDS/mm9/RefSeqGene.mm9.bed.gz  \n",
            "  inflating: ChromHMM/COORDS/mm9/RefSeqTES.mm9.bed.gz  \n",
            "  inflating: ChromHMM/COORDS/mm9/RefSeqTSS.mm9.bed.gz  \n",
            "  inflating: ChromHMM/COORDS/mm9/RefSeqTSS2kb.mm9.bed.gz  \n",
            "   creating: ChromHMM/COORDS/rn5/\n",
            "  inflating: ChromHMM/COORDS/rn5/CpGIsland.rn5.bed.gz  \n",
            "  inflating: ChromHMM/COORDS/rn5/RefSeqExon.rn5.bed.gz  \n",
            "  inflating: ChromHMM/COORDS/rn5/RefSeqGene.rn5.bed.gz  \n",
            "  inflating: ChromHMM/COORDS/rn5/RefSeqTES.rn5.bed.gz  \n",
            "  inflating: ChromHMM/COORDS/rn5/RefSeqTSS.rn5.bed.gz  \n",
            "  inflating: ChromHMM/COORDS/rn5/RefSeqTSS2kb.rn5.bed.gz  \n",
            "   creating: ChromHMM/COORDS/rn6/\n",
            "  inflating: ChromHMM/COORDS/rn6/CpGIsland.rn6.bed.gz  \n",
            "  inflating: ChromHMM/COORDS/rn6/RefSeqExon.rn6.bed.gz  \n",
            "  inflating: ChromHMM/COORDS/rn6/RefSeqGene.rn6.bed.gz  \n",
            "  inflating: ChromHMM/COORDS/rn6/RefSeqTES.rn6.bed.gz  \n",
            "  inflating: ChromHMM/COORDS/rn6/RefSeqTSS.rn6.bed.gz  \n",
            "  inflating: ChromHMM/COORDS/rn6/RefSeqTSS2kb.rn6.bed.gz  \n",
            "   creating: ChromHMM/SAMPLEDATA_HG18/\n",
            "  inflating: ChromHMM/SAMPLEDATA_HG18/GM12878_chr11_binary.txt.gz  \n",
            "  inflating: ChromHMM/SAMPLEDATA_HG18/K562_chr11_binary.txt.gz  \n",
            "   creating: ChromHMM/SRC/\n",
            "   creating: ChromHMM/SRC/edu/\n",
            "   creating: ChromHMM/SRC/edu/mit/\n",
            "   creating: ChromHMM/SRC/edu/mit/compbio/\n",
            "   creating: ChromHMM/SRC/edu/mit/compbio/ChromHMM/\n",
            "  inflating: ChromHMM/SRC/edu/mit/compbio/ChromHMM/BrowserOutput.java  \n",
            "  inflating: ChromHMM/SRC/edu/mit/compbio/ChromHMM/ChromHMM.java  \n",
            "  inflating: ChromHMM/SRC/edu/mit/compbio/ChromHMM/ConvertGeneTable.java  \n",
            "  inflating: ChromHMM/SRC/edu/mit/compbio/ChromHMM/NestedEliminateInitialize.java  \n",
            "  inflating: ChromHMM/SRC/edu/mit/compbio/ChromHMM/Preprocessing.java  \n",
            "  inflating: ChromHMM/SRC/edu/mit/compbio/ChromHMM/StateAnalysis.java  \n",
            "  inflating: ChromHMM/SRC/edu/mit/compbio/ChromHMM/Util.java  \n",
            "   creating: ChromHMM/SRC/org/\n",
            "   creating: ChromHMM/SRC/org/tc33/\n",
            "   creating: ChromHMM/SRC/org/tc33/jheatchart/\n",
            "  inflating: ChromHMM/SRC/org/tc33/jheatchart/HeatChart.java  \n",
            "  inflating: ChromHMM/versionlog.txt  \n"
          ]
        }
      ]
    },
    {
      "cell_type": "markdown",
      "source": [
        "## Скачиваем файлы"
      ],
      "metadata": {
        "id": "k80uGrS5quq1"
      }
    },
    {
      "cell_type": "markdown",
      "source": [
        "В рамках ДЗ №2 рассматривалась клеточная линия $HepG2,$ поэтому скачаем соответствующие её файлы из $UCSC\\ Genome\\ Browser.$"
      ],
      "metadata": {
        "id": "zbZOefNL7wej"
      }
    },
    {
      "cell_type": "code",
      "source": [
        "# Скачивание файла с контрольным экспериментом.\n",
        "! wget http://hgdownload.cse.ucsc.edu/goldenPath/hg19/encodeDCC/wgEncodeBroadHistone/wgEncodeBroadHistoneHepg2ControlStdAlnRep1.bam -O ControlStdAlnRep1.bam"
      ],
      "metadata": {
        "colab": {
          "base_uri": "https://localhost:8080/"
        },
        "id": "ruwkiTCS5_4a",
        "outputId": "35597016-df71-4ffd-d3f5-308ac7a83764"
      },
      "execution_count": null,
      "outputs": [
        {
          "output_type": "stream",
          "name": "stdout",
          "text": [
            "--2023-03-31 18:25:00--  http://hgdownload.cse.ucsc.edu/goldenPath/hg19/encodeDCC/wgEncodeBroadHistone/wgEncodeBroadHistoneHepg2ControlStdAlnRep1.bam\n",
            "Resolving hgdownload.cse.ucsc.edu (hgdownload.cse.ucsc.edu)... 128.114.119.163\n",
            "Connecting to hgdownload.cse.ucsc.edu (hgdownload.cse.ucsc.edu)|128.114.119.163|:80... connected.\n",
            "HTTP request sent, awaiting response... 200 OK\n",
            "Length: 98902705 (94M) [application/octet-stream]\n",
            "Saving to: ‘ControlStdAlnRep1.bam’\n",
            "\n",
            "ControlStdAlnRep1.b 100%[===================>]  94.32M  41.4MB/s    in 2.3s    \n",
            "\n",
            "2023-03-31 18:25:03 (41.4 MB/s) - ‘ControlStdAlnRep1.bam’ saved [98902705/98902705]\n",
            "\n"
          ]
        }
      ]
    },
    {
      "cell_type": "code",
      "source": [
        "# Скачивание выравнивания для модификаций гистонов (10 штук).\n",
        "! wget http://hgdownload.cse.ucsc.edu/goldenPath/hg19/encodeDCC/wgEncodeBroadHistone/wgEncodeBroadHistoneHepg2H3k27acStdAlnRep1.bam -O H3k27acStdAlnRep1.bam\n",
        "! wget http://hgdownload.cse.ucsc.edu/goldenPath/hg19/encodeDCC/wgEncodeBroadHistone/wgEncodeBroadHistoneHepg2H3k27me3StdAlnRep1.bam -O H3k27me3StdAlnRep1.bam\n",
        "! wget http://hgdownload.cse.ucsc.edu/goldenPath/hg19/encodeDCC/wgEncodeBroadHistone/wgEncodeBroadHistoneHepg2H3k36me3StdAlnRep1.bam -O H3k36me3StdAlnRep1.bam\n",
        "! wget http://hgdownload.cse.ucsc.edu/goldenPath/hg19/encodeDCC/wgEncodeBroadHistone/wgEncodeBroadHistoneHepg2H3k04me1StdAlnRep1.bam -O H3k04me1StdAlnRep1.bam\n",
        "! wget http://hgdownload.cse.ucsc.edu/goldenPath/hg19/encodeDCC/wgEncodeBroadHistone/wgEncodeBroadHistoneHepg2H3k4me2StdAlnRep1.bam -O H3k4me2StdAlnRep1.bam\n",
        "! wget http://hgdownload.cse.ucsc.edu/goldenPath/hg19/encodeDCC/wgEncodeBroadHistone/wgEncodeBroadHistoneHepg2H3k4me3StdAlnRep1.bam -O H3k4me3StdAlnRep1.bam\n",
        "! wget http://hgdownload.cse.ucsc.edu/goldenPath/hg19/encodeDCC/wgEncodeBroadHistone/wgEncodeBroadHistoneHepg2H3k79me2StdAlnRep1.bam -O H3k79me2StdAlnRep1.bam\n",
        "! wget http://hgdownload.cse.ucsc.edu/goldenPath/hg19/encodeDCC/wgEncodeBroadHistone/wgEncodeBroadHistoneHepg2H3k9acStdAlnRep1.bam -O H3k9acStdAlnRep1.bam\n",
        "! wget http://hgdownload.cse.ucsc.edu/goldenPath/hg19/encodeDCC/wgEncodeBroadHistone/wgEncodeBroadHistoneHepg2H3k09me3AlnRep1.bam -O H3k09me3AlnRep1.bam\n",
        "! wget http://hgdownload.cse.ucsc.edu/goldenPath/hg19/encodeDCC/wgEncodeBroadHistone/wgEncodeBroadHistoneHepg2H4k20me1StdAlnRep1.bam -O H4k20me1StdAlnRep1.bam"
      ],
      "metadata": {
        "colab": {
          "base_uri": "https://localhost:8080/"
        },
        "id": "9dei_mKI6omg",
        "outputId": "5c570fa2-5ac0-4829-a2a3-cb257b59a813"
      },
      "execution_count": null,
      "outputs": [
        {
          "output_type": "stream",
          "name": "stdout",
          "text": [
            "--2023-03-31 19:19:14--  http://hgdownload.cse.ucsc.edu/goldenPath/hg19/encodeDCC/wgEncodeBroadHistone/wgEncodeBroadHistoneHepg2H3k27acStdAlnRep1.bam\n",
            "Resolving hgdownload.cse.ucsc.edu (hgdownload.cse.ucsc.edu)... 128.114.119.163\n",
            "Connecting to hgdownload.cse.ucsc.edu (hgdownload.cse.ucsc.edu)|128.114.119.163|:80... connected.\n",
            "HTTP request sent, awaiting response... 200 OK\n",
            "Length: 231713875 (221M) [application/octet-stream]\n",
            "Saving to: ‘H3k27acStdAlnRep1.bam’\n",
            "\n",
            "H3k27acStdAlnRep1.b 100%[===================>] 220.98M  45.8MB/s    in 5.2s    \n",
            "\n",
            "2023-03-31 19:19:20 (42.8 MB/s) - ‘H3k27acStdAlnRep1.bam’ saved [231713875/231713875]\n",
            "\n",
            "--2023-03-31 19:19:20--  http://hgdownload.cse.ucsc.edu/goldenPath/hg19/encodeDCC/wgEncodeBroadHistone/wgEncodeBroadHistoneHepg2H3k27me3StdAlnRep1.bam\n",
            "Resolving hgdownload.cse.ucsc.edu (hgdownload.cse.ucsc.edu)... 128.114.119.163\n",
            "Connecting to hgdownload.cse.ucsc.edu (hgdownload.cse.ucsc.edu)|128.114.119.163|:80... connected.\n",
            "HTTP request sent, awaiting response... 200 OK\n",
            "Length: 1272075802 (1.2G) [application/octet-stream]\n",
            "Saving to: ‘H3k27me3StdAlnRep1.bam’\n",
            "\n",
            "H3k27me3StdAlnRep1. 100%[===================>]   1.18G  48.4MB/s    in 24s     \n",
            "\n",
            "2023-03-31 19:19:44 (50.5 MB/s) - ‘H3k27me3StdAlnRep1.bam’ saved [1272075802/1272075802]\n",
            "\n",
            "--2023-03-31 19:19:44--  http://hgdownload.cse.ucsc.edu/goldenPath/hg19/encodeDCC/wgEncodeBroadHistone/wgEncodeBroadHistoneHepg2H3k36me3StdAlnRep1.bam\n",
            "Resolving hgdownload.cse.ucsc.edu (hgdownload.cse.ucsc.edu)... 128.114.119.163\n",
            "Connecting to hgdownload.cse.ucsc.edu (hgdownload.cse.ucsc.edu)|128.114.119.163|:80... connected.\n",
            "HTTP request sent, awaiting response... 200 OK\n",
            "Length: 237174388 (226M) [application/octet-stream]\n",
            "Saving to: ‘H3k36me3StdAlnRep1.bam’\n",
            "\n",
            "H3k36me3StdAlnRep1. 100%[===================>] 226.19M  43.0MB/s    in 5.7s    \n",
            "\n",
            "2023-03-31 19:19:50 (39.5 MB/s) - ‘H3k36me3StdAlnRep1.bam’ saved [237174388/237174388]\n",
            "\n",
            "--2023-03-31 19:19:50--  http://hgdownload.cse.ucsc.edu/goldenPath/hg19/encodeDCC/wgEncodeBroadHistone/wgEncodeBroadHistoneHepg2H3k04me1StdAlnRep1.bam\n",
            "Resolving hgdownload.cse.ucsc.edu (hgdownload.cse.ucsc.edu)... 128.114.119.163\n",
            "Connecting to hgdownload.cse.ucsc.edu (hgdownload.cse.ucsc.edu)|128.114.119.163|:80... connected.\n",
            "HTTP request sent, awaiting response... 200 OK\n",
            "Length: 1301296626 (1.2G) [application/octet-stream]\n",
            "Saving to: ‘H3k04me1StdAlnRep1.bam’\n",
            "\n",
            "H3k04me1StdAlnRep1. 100%[===================>]   1.21G  48.7MB/s    in 26s     \n",
            "\n",
            "2023-03-31 19:20:16 (47.4 MB/s) - ‘H3k04me1StdAlnRep1.bam’ saved [1301296626/1301296626]\n",
            "\n",
            "--2023-03-31 19:20:16--  http://hgdownload.cse.ucsc.edu/goldenPath/hg19/encodeDCC/wgEncodeBroadHistone/wgEncodeBroadHistoneHepg2H3k4me2StdAlnRep1.bam\n",
            "Resolving hgdownload.cse.ucsc.edu (hgdownload.cse.ucsc.edu)... 128.114.119.163\n",
            "Connecting to hgdownload.cse.ucsc.edu (hgdownload.cse.ucsc.edu)|128.114.119.163|:80... connected.\n",
            "HTTP request sent, awaiting response... 200 OK\n",
            "Length: 761372467 (726M) [application/octet-stream]\n",
            "Saving to: ‘H3k4me2StdAlnRep1.bam’\n",
            "\n",
            "H3k4me2StdAlnRep1.b 100%[===================>] 726.10M  51.0MB/s    in 15s     \n",
            "\n",
            "2023-03-31 19:20:31 (49.6 MB/s) - ‘H3k4me2StdAlnRep1.bam’ saved [761372467/761372467]\n",
            "\n",
            "--2023-03-31 19:20:31--  http://hgdownload.cse.ucsc.edu/goldenPath/hg19/encodeDCC/wgEncodeBroadHistone/wgEncodeBroadHistoneHepg2H3k4me3StdAlnRep1.bam\n",
            "Resolving hgdownload.cse.ucsc.edu (hgdownload.cse.ucsc.edu)... 128.114.119.163\n",
            "Connecting to hgdownload.cse.ucsc.edu (hgdownload.cse.ucsc.edu)|128.114.119.163|:80... connected.\n",
            "HTTP request sent, awaiting response... 200 OK\n",
            "Length: 319120369 (304M) [application/octet-stream]\n",
            "Saving to: ‘H3k4me3StdAlnRep1.bam’\n",
            "\n",
            "H3k4me3StdAlnRep1.b 100%[===================>] 304.34M  51.9MB/s    in 6.2s    \n",
            "\n",
            "2023-03-31 19:20:38 (48.9 MB/s) - ‘H3k4me3StdAlnRep1.bam’ saved [319120369/319120369]\n",
            "\n",
            "--2023-03-31 19:20:38--  http://hgdownload.cse.ucsc.edu/goldenPath/hg19/encodeDCC/wgEncodeBroadHistone/wgEncodeBroadHistoneHepg2H3k79me2StdAlnRep1.bam\n",
            "Resolving hgdownload.cse.ucsc.edu (hgdownload.cse.ucsc.edu)... 128.114.119.163\n",
            "Connecting to hgdownload.cse.ucsc.edu (hgdownload.cse.ucsc.edu)|128.114.119.163|:80... connected.\n",
            "HTTP request sent, awaiting response... 200 OK\n",
            "Length: 1121933032 (1.0G) [application/octet-stream]\n",
            "Saving to: ‘H3k79me2StdAlnRep1.bam’\n",
            "\n",
            "H3k79me2StdAlnRep1. 100%[===================>]   1.04G  52.4MB/s    in 21s     \n",
            "\n",
            "2023-03-31 19:20:59 (50.5 MB/s) - ‘H3k79me2StdAlnRep1.bam’ saved [1121933032/1121933032]\n",
            "\n",
            "--2023-03-31 19:20:59--  http://hgdownload.cse.ucsc.edu/goldenPath/hg19/encodeDCC/wgEncodeBroadHistone/wgEncodeBroadHistoneHepg2H3k9acStdAlnRep1.bam\n",
            "Resolving hgdownload.cse.ucsc.edu (hgdownload.cse.ucsc.edu)... 128.114.119.163\n",
            "Connecting to hgdownload.cse.ucsc.edu (hgdownload.cse.ucsc.edu)|128.114.119.163|:80... connected.\n",
            "HTTP request sent, awaiting response... 200 OK\n",
            "Length: 910109725 (868M) [application/octet-stream]\n",
            "Saving to: ‘H3k9acStdAlnRep1.bam’\n",
            "\n",
            "H3k9acStdAlnRep1.ba 100%[===================>] 867.95M  51.2MB/s    in 18s     \n",
            "\n",
            "2023-03-31 19:21:17 (49.1 MB/s) - ‘H3k9acStdAlnRep1.bam’ saved [910109725/910109725]\n",
            "\n",
            "--2023-03-31 19:21:17--  http://hgdownload.cse.ucsc.edu/goldenPath/hg19/encodeDCC/wgEncodeBroadHistone/wgEncodeBroadHistoneHepg2H3k09me3AlnRep1.bam\n",
            "Resolving hgdownload.cse.ucsc.edu (hgdownload.cse.ucsc.edu)... 128.114.119.163\n",
            "Connecting to hgdownload.cse.ucsc.edu (hgdownload.cse.ucsc.edu)|128.114.119.163|:80... connected.\n",
            "HTTP request sent, awaiting response... 200 OK\n",
            "Length: 1931244446 (1.8G) [application/octet-stream]\n",
            "Saving to: ‘H3k09me3AlnRep1.bam’\n",
            "\n",
            "H3k09me3AlnRep1.bam 100%[===================>]   1.80G  52.6MB/s    in 36s     \n",
            "\n",
            "2023-03-31 19:21:54 (51.0 MB/s) - ‘H3k09me3AlnRep1.bam’ saved [1931244446/1931244446]\n",
            "\n",
            "--2023-03-31 19:21:54--  http://hgdownload.cse.ucsc.edu/goldenPath/hg19/encodeDCC/wgEncodeBroadHistone/wgEncodeBroadHistoneHepg2H4k20me1StdAlnRep1.bam\n",
            "Resolving hgdownload.cse.ucsc.edu (hgdownload.cse.ucsc.edu)... 128.114.119.163\n",
            "Connecting to hgdownload.cse.ucsc.edu (hgdownload.cse.ucsc.edu)|128.114.119.163|:80... connected.\n",
            "HTTP request sent, awaiting response... 200 OK\n",
            "Length: 865054869 (825M) [application/octet-stream]\n",
            "Saving to: ‘H4k20me1StdAlnRep1.bam’\n",
            "\n",
            "H4k20me1StdAlnRep1. 100%[===================>] 824.98M  53.0MB/s    in 16s     \n",
            "\n",
            "2023-03-31 19:22:10 (51.6 MB/s) - ‘H4k20me1StdAlnRep1.bam’ saved [865054869/865054869]\n",
            "\n"
          ]
        }
      ]
    },
    {
      "cell_type": "markdown",
      "source": [
        "Запускаем ChromHMM с опцией $BinarizeBam$, чтобы конвертировать профили из ChIP-seq экспериментов (bam-файлы) в табличку из 0 и 1, т.е. чтобы сделать разбивку генома на условные интервалы (бины) длиной 200 п.о.   \n",
        "Файл $cellmarkfiletable.txt$ создается вручную ДО запуска команды."
      ],
      "metadata": {
        "id": "WeoRL3rp728b"
      }
    },
    {
      "cell_type": "code",
      "source": [
        "! java -mx5000M -jar /content/ChromHMM/ChromHMM.jar BinarizeBam -b 200  /content/ChromHMM/CHROMSIZES/hg19.txt /content/ cellmarkfiletable.txt   binarizedData"
      ],
      "metadata": {
        "id": "tyP6jFAJKdoi",
        "colab": {
          "base_uri": "https://localhost:8080/"
        },
        "outputId": "6fba10e4-994a-4a1d-f81a-08f34b9dfbaf"
      },
      "execution_count": null,
      "outputs": [
        {
          "output_type": "stream",
          "name": "stdout",
          "text": [
            "Writing to file binarizedData/Huvec_chr1_binary.txt\n",
            "Writing to file binarizedData/Huvec_chr2_binary.txt\n",
            "Writing to file binarizedData/Huvec_chr3_binary.txt\n",
            "Writing to file binarizedData/Huvec_chr4_binary.txt\n",
            "Writing to file binarizedData/Huvec_chr5_binary.txt\n",
            "Writing to file binarizedData/Huvec_chr6_binary.txt\n",
            "Writing to file binarizedData/Huvec_chr7_binary.txt\n",
            "Writing to file binarizedData/Huvec_chrX_binary.txt\n",
            "Writing to file binarizedData/Huvec_chr8_binary.txt\n",
            "Writing to file binarizedData/Huvec_chr9_binary.txt\n",
            "Writing to file binarizedData/Huvec_chr10_binary.txt\n",
            "Writing to file binarizedData/Huvec_chr11_binary.txt\n",
            "Writing to file binarizedData/Huvec_chr12_binary.txt\n",
            "Writing to file binarizedData/Huvec_chr13_binary.txt\n",
            "Writing to file binarizedData/Huvec_chr14_binary.txt\n",
            "Writing to file binarizedData/Huvec_chr15_binary.txt\n",
            "Writing to file binarizedData/Huvec_chr16_binary.txt\n",
            "Writing to file binarizedData/Huvec_chr17_binary.txt\n",
            "Writing to file binarizedData/Huvec_chr18_binary.txt\n",
            "Writing to file binarizedData/Huvec_chr20_binary.txt\n",
            "Writing to file binarizedData/Huvec_chrY_binary.txt\n",
            "Writing to file binarizedData/Huvec_chr19_binary.txt\n",
            "Writing to file binarizedData/Huvec_chr22_binary.txt\n",
            "Writing to file binarizedData/Huvec_chr21_binary.txt\n",
            "Writing to file binarizedData/Huvec_chrM_binary.txt\n"
          ]
        }
      ]
    },
    {
      "cell_type": "markdown",
      "source": [
        "Теперь запуск $ChromHMM$ с опцией $LearnModel$ (10 эпигенетических типов, версия генома человека $hg19$):"
      ],
      "metadata": {
        "id": "-Pyci13XR5xp"
      }
    },
    {
      "cell_type": "code",
      "source": [
        "! java -mx5000M -jar /content/ChromHMM/ChromHMM.jar LearnModel /content/binarizedData LearnModelOutput 10 hg19"
      ],
      "metadata": {
        "colab": {
          "base_uri": "https://localhost:8080/"
        },
        "id": "y1feaAEvSC59",
        "outputId": "83d6142d-2bd8-43fc-b4ba-d49b94496154"
      },
      "execution_count": null,
      "outputs": [
        {
          "output_type": "stream",
          "name": "stdout",
          "text": [
            "Writing to file LearnModelOutput/transitions_10.txt\n",
            "Writing to file LearnModelOutput/emissions_10.txt\n",
            "Writing to file LearnModelOutput/emissions_10.svg\n",
            "Writing to file LearnModelOutput/emissions_10.png\n",
            "Writing to file LearnModelOutput/transitions_10.png\n",
            "Writing to file LearnModelOutput/transitions_10.svg\n",
            "Writing to file LearnModelOutput/model_10.txt\n",
            " Iteration  Estimated Log Likelihood     Change    Total Time (secs)\n",
            "         1             -12395675.489          -                 12.5\n",
            "         2             -10561403.187 1834272.302                 22.6\n",
            "         3             -10071608.825 489794.362                 31.2\n",
            "         4              -9849872.419 221736.406                 39.8\n",
            "         5              -9762531.565  87340.854                 48.5\n",
            "         6              -9725301.074  37230.491                 56.4\n",
            "         7              -9706149.923  19151.152                 64.9\n",
            "         8              -9697343.383   8806.540                 73.5\n",
            "         9              -9693752.314   3591.069                 81.6\n",
            "        10              -9692288.786   1463.528                 90.2\n",
            "        11              -9691668.399    620.387                 98.8\n",
            "        12              -9691395.863    272.537                107.4\n",
            "        13              -9691270.206    125.656                115.2\n",
            "        14              -9691208.498     61.709                127.4\n",
            "        15              -9691177.047     31.451                136.5\n",
            "        16              -9691160.704     16.343                145.7\n",
            "        17              -9691151.944      8.761                154.8\n",
            "        18              -9691147.065      4.878                167.2\n",
            "        19              -9691144.252      2.814                174.9\n",
            "        20              -9691142.567      1.685                183.3\n",
            "        21              -9691141.519      1.048                194.6\n",
            "        22              -9691140.847      0.672                204.2\n",
            "        23              -9691140.399      0.447                213.4\n",
            "        24              -9691140.093      0.307                222.7\n",
            "        25              -9691139.877      0.216                232.4\n",
            "        26              -9691139.719      0.158                242.0\n",
            "        27              -9691139.603      0.116                251.6\n",
            "        28              -9691139.502      0.101                260.5\n",
            "        29              -9691139.438      0.065                270.0\n",
            "        30              -9691139.386      0.051                279.7\n",
            "        31              -9691139.345      0.041                289.3\n",
            "        32              -9691139.312      0.033                299.0\n",
            "        33              -9691139.285      0.028                307.8\n",
            "        34              -9691139.263      0.022                317.4\n",
            "        35              -9691139.245      0.018                327.0\n",
            "        36              -9691139.229      0.015                336.5\n",
            "        37              -9691139.216      0.013                346.1\n",
            "        38              -9691139.206      0.011                354.9\n",
            "        39              -9691139.197      0.009                364.5\n",
            "        40              -9691139.189      0.008                374.1\n",
            "        41              -9691139.182      0.006                383.7\n",
            "        42              -9691139.177      0.006                393.0\n",
            "        43              -9691139.172      0.005                402.2\n",
            "        44              -9691139.168      0.003                411.9\n",
            "        45              -9691139.164      0.004                421.6\n",
            "        46              -9691139.161      0.003                431.2\n",
            "        47              -9691139.159      0.003                440.1\n",
            "        48              -9691139.156      0.003                449.7\n",
            "        49              -9691139.154      0.003                459.3\n",
            "        50              -9691139.152      0.001                469.0\n",
            "        51              -9691139.152      0.001                478.5\n",
            "Writing to file LearnModelOutput/Huvec_10_segments.bed\n",
            "Writing to file LearnModelOutput/Huvec_10_dense.bed\n",
            "Writing to file LearnModelOutput/Huvec_10_expanded.bed\n",
            "Writing to file LearnModelOutput/Huvec_10_overlap.txt\n",
            "Writing to file LearnModelOutput/Huvec_10_overlap.png\n",
            "Writing to file LearnModelOutput/Huvec_10_overlap.svg\n",
            "Writing to file LearnModelOutput/Huvec_10_RefSeqTSS_neighborhood.txt\n",
            "Writing to file LearnModelOutput/Huvec_10_RefSeqTSS_neighborhood.png\n",
            "Writing to file LearnModelOutput/Huvec_10_RefSeqTSS_neighborhood.svg\n",
            "Writing to file LearnModelOutput/Huvec_10_RefSeqTES_neighborhood.txt\n",
            "Writing to file LearnModelOutput/Huvec_10_RefSeqTES_neighborhood.png\n",
            "Writing to file LearnModelOutput/Huvec_10_RefSeqTES_neighborhood.svg\n",
            "Warning could not automatically open in a browser LearnModelOutput/webpage_10.html\n"
          ]
        }
      ]
    },
    {
      "cell_type": "markdown",
      "source": [
        "Создадим архив, чтобы скачать данные папки к себе на компьютер:"
      ],
      "metadata": {
        "id": "KLowMqHIYM95"
      }
    },
    {
      "cell_type": "code",
      "source": [
        "! zip -r learmodel.zip LearnModelOutput/"
      ],
      "metadata": {
        "colab": {
          "base_uri": "https://localhost:8080/"
        },
        "id": "AVfRgI0TYSUC",
        "outputId": "69f4c5b8-d20c-42d5-9bb3-03c4a20c27ad"
      },
      "execution_count": null,
      "outputs": [
        {
          "output_type": "stream",
          "name": "stdout",
          "text": [
            "  adding: LearnModelOutput/ (stored 0%)\n",
            "  adding: LearnModelOutput/Huvec_10_RefSeqTSS_neighborhood.txt (deflated 53%)\n",
            "  adding: LearnModelOutput/emissions_10.svg (deflated 70%)\n",
            "  adding: LearnModelOutput/Huvec_10_RefSeqTSS_neighborhood.svg (deflated 73%)\n",
            "  adding: LearnModelOutput/webpage_10.html (deflated 72%)\n",
            "  adding: LearnModelOutput/emissions_10.txt (deflated 49%)\n",
            "  adding: LearnModelOutput/Huvec_10_overlap.svg (deflated 70%)\n",
            "  adding: LearnModelOutput/transitions_10.txt (deflated 48%)\n",
            "  adding: LearnModelOutput/model_10.txt (deflated 70%)\n",
            "  adding: LearnModelOutput/Huvec_10_RefSeqTES_neighborhood.png (deflated 35%)\n",
            "  adding: LearnModelOutput/Huvec_10_RefSeqTSS_neighborhood.png (deflated 32%)\n",
            "  adding: LearnModelOutput/transitions_10.png (deflated 16%)\n",
            "  adding: LearnModelOutput/Huvec_10_expanded.bed (deflated 70%)\n",
            "  adding: LearnModelOutput/Huvec_10_dense.bed (deflated 84%)\n",
            "  adding: LearnModelOutput/Huvec_10_segments.bed (deflated 79%)\n",
            "  adding: LearnModelOutput/Huvec_10_RefSeqTES_neighborhood.txt (deflated 57%)\n",
            "  adding: LearnModelOutput/Huvec_10_overlap.txt (deflated 47%)\n",
            "  adding: LearnModelOutput/transitions_10.svg (deflated 68%)\n",
            "  adding: LearnModelOutput/Huvec_10_overlap.png (deflated 20%)\n",
            "  adding: LearnModelOutput/emissions_10.png (deflated 21%)\n",
            "  adding: LearnModelOutput/Huvec_10_RefSeqTES_neighborhood.svg (deflated 73%)\n"
          ]
        }
      ]
    },
    {
      "cell_type": "markdown",
      "source": [
        "# Бонусная часть"
      ],
      "metadata": {
        "id": "JvDz3xtoe0CR"
      }
    },
    {
      "cell_type": "markdown",
      "source": [
        "Создаем скрипт, который будет формировать модифицированный файл для бонусного задания на основе файла Huvec\\_10\\_dense.bed с учетом переименовывания типов эпигенетических типов в более читабельный формат.\n"
      ],
      "metadata": {
        "id": "NiNHU0Q0e6f2"
      }
    },
    {
      "cell_type": "code",
      "source": [
        "import pandas as pd\n",
        "\n",
        "header = ['chrom', 'start', 'end', 'state', 'zero', 'dot', 'start_1', 'end_1', 'rgb']\n",
        "df = pd.read_csv('Huvec_10_dense.bed', sep='\\t', skiprows=1, header=None, names=header)\n",
        "\n",
        "df.loc[df.state == 1, 'state'] = '1_Transcribed'\n",
        "df.loc[df.state == 2, 'state'] = '2_Transcribed'\n",
        "df.loc[df.state == 3, 'state'] = '3_Transcribed'\n",
        "df.loc[df.state == 4, 'state'] = '4_Enhancer'\n",
        "df.loc[df.state == 5, 'state'] = '5_Strong_Enhancer'\n",
        "df.loc[df.state == 6, 'state'] = '6_Active_Promoter'\n",
        "df.loc[df.state == 7, 'state'] = '7_Active_Promoter'\n",
        "df.loc[df.state == 8, 'state'] = '8_Heterochromatin'\n",
        "df.loc[df.state == 9, 'state'] = '9_Heterochromatin'\n",
        "df.loc[df.state == 10, 'state'] = '10_Heterochromatin'\n",
        "\n",
        "df.to_csv('Huvec_10_dense_new.bed', sep='\\t', index=False, header=None)"
      ],
      "metadata": {
        "id": "PnAA4bN2ezEr"
      },
      "execution_count": 6,
      "outputs": []
    }
  ]
}